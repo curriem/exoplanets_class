{
 "cells": [
  {
   "cell_type": "markdown",
   "metadata": {},
   "source": [
    "# Exoplanets HW3 \n",
    "## Steven Stetzler and Miles Currie\n",
    "\n",
    "### Problem 1\n",
    "\n",
    "Install Rebound"
   ]
  },
  {
   "cell_type": "code",
   "execution_count": 1,
   "metadata": {},
   "outputs": [],
   "source": [
    "import numpy as np\n",
    "import matplotlib.pyplot as plt\n",
    "import rebound\n",
    "from IPython.display import display, clear_output\n",
    "import matplotlib.pyplot as plt\n",
    "from matplotlib import rcParams\n",
    "import sys"
   ]
  },
  {
   "cell_type": "code",
   "execution_count": 2,
   "metadata": {},
   "outputs": [],
   "source": [
    "rcParams['figure.figsize'] = [12, 10]\n",
    "rcParams['font.size'] = 18"
   ]
  },
  {
   "cell_type": "markdown",
   "metadata": {},
   "source": [
    "### Problem 2\n",
    "Look up the parameters of the planet system GJ 876.  Assume the planets’ orbits lie in a plane, and vary the inclination of the system.  At what inclination does the system become unstable after 1000 orbits of the inner planet? What upper limit does this place on the planets’ masses?  At what inclination would the planets be seen to transit?  What lower limit does this place on the planets’ masses?\n",
    "\n",
    "\n",
    "### From [Rivera et al. (2010)](https://iopscience.iop.org/article/10.1088/0004-637X/719/1/890/pdf):\n",
    "<img src=\"GJ876_planet_params.png\">\n",
    "<img src=\"GJ876_stellar_params.png\">"
   ]
  },
  {
   "cell_type": "code",
   "execution_count": 55,
   "metadata": {},
   "outputs": [],
   "source": [
    "class Planet():\n",
    "    def __init__(self, P, m, a, K, e, omega, mean_anomoly):\n",
    "        self.P = P \n",
    "        self.m = m\n",
    "        self.a = a\n",
    "        self.K = K\n",
    "        self.e = e\n",
    "        self.omega = omega\n",
    "        self.mean_anomoly = mean_anomoly\n",
    "        \n",
    "    def copy(self):\n",
    "        return Planet(self.P, self.m, self.a, self.K, self.e, self.omega, self.mean_anomoly)"
   ]
  },
  {
   "cell_type": "code",
   "execution_count": 56,
   "metadata": {},
   "outputs": [
    {
     "name": "stdout",
     "output_type": "stream",
     "text": [
      "G = 8.88769244513e-10.\n"
     ]
    }
   ],
   "source": [
    "sim = rebound.Simulation()\n",
    "sim.units = ('days', 'AU', 'Mearth')\n",
    "print(\"G = {0}.\".format(sim.G))"
   ]
  },
  {
   "cell_type": "code",
   "execution_count": 53,
   "metadata": {},
   "outputs": [],
   "source": [
    "def run_simulation(planets, integration_time, plot=False, num_steps=10, archive_interval=10, planetb_mass_scalar=1, **kwargs):    \n",
    "    sim = rebound.Simulation()\n",
    "    sim.units = ('days', 'AU', 'Mearth')\n",
    "\n",
    "    # Add center star\n",
    "    sim.add(m=0.32 * M_SUN_TO_M_EARTH)\n",
    "    # Add all planets\n",
    "    for planet in planets:\n",
    "        sim.add(m=planet.m, a=planet.a, e=planet.e, M=planet.mean_anomoly, omega=planet.omega)\n",
    "    \n",
    "    planets[0].m *= planetb_mass_scalar # for mass variation in TTV problem 4\n",
    "    \n",
    "    # convert to center of mass coordinates\n",
    "    sim.move_to_com()\n",
    "    sim.dt = sim.particles[1].P * 0.05  # timestep is 5% of orbital period\n",
    "    sim.integrator = \"whfast\"\n",
    "    sim.automateSimulationArchive(\"archive.bin\", interval=archive_interval, deletefile=True)\n",
    "\n",
    "    sim.move_to_com()\n",
    "    \n",
    "    if plot:\n",
    "        for i in range(num_steps):\n",
    "            sim.integrate(sim.t + integration_time / num_steps)\n",
    "            fig = rebound.OrbitPlot(sim, color=True, unitlabel=\"[AU]\", lim=1.2 * max([planet.a for planet in planets]))\n",
    "            display(fig)\n",
    "            plt.close(fig)\n",
    "            clear_output(wait=True)\n",
    "        display(fig)\n",
    "    else:\n",
    "        sim.integrate(integration_time)\n",
    "        \n",
    "    return sim"
   ]
  },
  {
   "cell_type": "code",
   "execution_count": 57,
   "metadata": {},
   "outputs": [
    {
     "data": {
      "image/png": "[encoded data removed]",
      "text/plain": [
       "<Figure size 360x360 with 1 Axes>"
      ]
     },
     "metadata": {},
     "output_type": "display_data"
    }
   ],
   "source": [
    "M_JUPITER_TO_M_EARTH = 317.8\n",
    "M_SUN_TO_M_EARTH = 332946\n",
    "\n",
    "planets = [\n",
    "    Planet(1.937780, 6.83, 0.02080665, 6.56, 0.207, 234, 355),\n",
    "    Planet(30.0881, M_JUPITER_TO_M_EARTH * 0.7142, 0.129590, 88.34, 0.25591, 48.76, 294.59),\n",
    "    Planet(61.1166, M_JUPITER_TO_M_EARTH * 2.2756, 0.208317, 214, 0.0324, 50.3, 325.7),\n",
    "    Planet(124.26, 14.6, 0.3343, 3.42, 0.055, 239, 335)\n",
    "]\n",
    "\n",
    "sim = run_simulation(planets, 50, plot=True)"
   ]
  },
  {
   "cell_type": "code",
   "execution_count": 7,
   "metadata": {},
   "outputs": [
    {
     "ename": "SyntaxError",
     "evalue": "invalid syntax (<ipython-input-7-177a50c11c2b>, line 8)",
     "output_type": "error",
     "traceback": [
      "\u001b[0;36m  File \u001b[0;32m\"<ipython-input-7-177a50c11c2b>\"\u001b[0;36m, line \u001b[0;32m8\u001b[0m\n\u001b[0;31m    print(f\"  {ret_planet.m} --> {modified_mass}\")\u001b[0m\n\u001b[0m                                                ^\u001b[0m\n\u001b[0;31mSyntaxError\u001b[0m\u001b[0;31m:\u001b[0m invalid syntax\n"
     ]
    }
   ],
   "source": [
    "def modify_masses(planets, inclination, ref_m_sinis, verbose=True, **kwargs):\n",
    "    modified_masses = [ref_m_sini / np.sin(inclination) for ref_m_sini in ref_m_sinis]\n",
    "    ret_planets = [planet.copy() for planet in planets]\n",
    "    if verbose:\n",
    "        print(\"Modified masses:\")\n",
    "    for ret_planet, modified_mass in zip(ret_planets, modified_masses):\n",
    "        if verbose:\n",
    "            print(f\"  {ret_planet.m} --> {modified_mass}\")\n",
    "        ret_planet.m = modified_mass\n",
    "    \n",
    "    return ret_planets"
   ]
  },
  {
   "cell_type": "code",
   "execution_count": 8,
   "metadata": {},
   "outputs": [],
   "source": [
    "def run_simluation_at_inclination(planets, inclination, integration_time, **kwargs):\n",
    "    DEG_TO_RAD = np.pi / 180\n",
    "    ref_inclination = 59 * DEG_TO_RAD\n",
    "    \n",
    "    ref_m_sinis = [planet.m * np.sin(ref_inclination) for planet in planets]\n",
    "    sim_planets = modify_masses(planets, inclination, ref_m_sinis, **kwargs)\n",
    "    \n",
    "    return run_simulation(sim_planets, integration_time, **kwargs)"
   ]
  },
  {
   "cell_type": "code",
   "execution_count": 9,
   "metadata": {},
   "outputs": [],
   "source": [
    "# Check if any of the orbits are within the Hill radius of one another\n",
    "# Return True if orbits are unstable\n",
    "# Return False if orbits are stable\n",
    "def orbits_unstable(particles):\n",
    "    positions = np.array([np.array([particle.x, particle.y, particle.z]) for particle in particles])\n",
    "    distances = np.zeros((len(particles), len(particles)))\n",
    "    \n",
    "    def hill_spheres_intersect():\n",
    "        r_H_list = [particle.a * (1-particle.e) * (particle.m / particles[0].m) for particle in particles[1:]]\n",
    "\n",
    "        for i in range(len(particles)):\n",
    "            for j in range(len(particles)):\n",
    "                distances[i, j] = np.sqrt(np.sum((positions[i] - positions[j])**2))\n",
    "\n",
    "        for i, (distance, r_H) in enumerate(zip(distances[1:], r_H_list)):\n",
    "            distance_minus_r_H = distance - r_H\n",
    "            negative_indices = np.where(distance_minus_r_H < 0)[0]\n",
    "            negative_indices = [j for j in negative_indices if j != i + 1]\n",
    "            if len(negative_indices) > 0:\n",
    "                return True\n",
    "            \n",
    "        return False\n",
    "    \n",
    "    # Check if each planet's distance from the star is less than another planet's semi-major axis\n",
    "    def orbits_cross():        \n",
    "        semi_major_axes = [particle.a for particle in particles[1:]]\n",
    "        \n",
    "        semi_major_axes_sorted = np.sort(semi_major_axes)\n",
    "        \n",
    "        return not np.array_equal(semi_major_axes, semi_major_axes_sorted)\n",
    "    \n",
    "    return hill_spheres_intersect() or orbits_cross()\n",
    "\n",
    "def simulation_unstable():\n",
    "    sa = rebound.SimulationArchive(\"archive.bin\")\n",
    "    return np.any([orbits_unstable(sim.particles) for sim in sa])"
   ]
  },
  {
   "cell_type": "code",
   "execution_count": 10,
   "metadata": {
    "scrolled": false
   },
   "outputs": [
    {
     "ename": "SyntaxError",
     "evalue": "invalid syntax (<ipython-input-10-e32ad5892224>, line 10)",
     "output_type": "error",
     "traceback": [
      "\u001b[0;36m  File \u001b[0;32m\"<ipython-input-10-e32ad5892224>\"\u001b[0;36m, line \u001b[0;32m10\u001b[0m\n\u001b[0;31m    print(f\"{100 * (i + 1) / len(inclinations)}% done   \", end=\"\\r\")\u001b[0m\n\u001b[0m                                                        ^\u001b[0m\n\u001b[0;31mSyntaxError\u001b[0m\u001b[0;31m:\u001b[0m invalid syntax\n"
     ]
    }
   ],
   "source": [
    "inclinations = np.linspace(0.01, np.pi/2, 100)\n",
    "stability_checks = []\n",
    "for i, inclination in enumerate(inclinations):\n",
    "    sim = run_simluation_at_inclination(planets, \n",
    "                                        inclination, \n",
    "                                        planets[0].P * 2000, \n",
    "                                        verbose=False,\n",
    "                                        archive_interval=100)\n",
    "    stability_checks.append(simulation_unstable())\n",
    "    print(f\"{100 * (i + 1) / len(inclinations)}% done   \", end=\"\\r\")\n",
    "    sys.stdout.flush()"
   ]
  },
  {
   "cell_type": "code",
   "execution_count": 11,
   "metadata": {},
   "outputs": [
    {
     "ename": "NameError",
     "evalue": "name 'inclinations' is not defined",
     "output_type": "error",
     "traceback": [
      "\u001b[0;31m---------------------------------------------------------------------------\u001b[0m",
      "\u001b[0;31mNameError\u001b[0m                                 Traceback (most recent call last)",
      "\u001b[0;32m<ipython-input-11-e2861b8eb5eb>\u001b[0m in \u001b[0;36m<module>\u001b[0;34m()\u001b[0m\n\u001b[0;32m----> 1\u001b[0;31m \u001b[0mplt\u001b[0m\u001b[0;34m.\u001b[0m\u001b[0mplot\u001b[0m\u001b[0;34m(\u001b[0m\u001b[0minclinations\u001b[0m \u001b[0;34m*\u001b[0m \u001b[0;36m180\u001b[0m \u001b[0;34m/\u001b[0m \u001b[0mnp\u001b[0m\u001b[0;34m.\u001b[0m\u001b[0mpi\u001b[0m\u001b[0;34m,\u001b[0m \u001b[0mstability_checks\u001b[0m\u001b[0;34m)\u001b[0m\u001b[0;34m\u001b[0m\u001b[0m\n\u001b[0m\u001b[1;32m      2\u001b[0m \u001b[0mplt\u001b[0m\u001b[0;34m.\u001b[0m\u001b[0mxlabel\u001b[0m\u001b[0;34m(\u001b[0m\u001b[0;34mr\"$i$ (deg)\"\u001b[0m\u001b[0;34m)\u001b[0m\u001b[0;34m\u001b[0m\u001b[0m\n\u001b[1;32m      3\u001b[0m \u001b[0mplt\u001b[0m\u001b[0;34m.\u001b[0m\u001b[0myticks\u001b[0m\u001b[0;34m(\u001b[0m\u001b[0;34m[\u001b[0m\u001b[0;36m0\u001b[0m\u001b[0;34m,\u001b[0m \u001b[0;36m1\u001b[0m\u001b[0;34m]\u001b[0m\u001b[0;34m,\u001b[0m \u001b[0;34m[\u001b[0m\u001b[0;34m\"False\"\u001b[0m\u001b[0;34m,\u001b[0m \u001b[0;34m\"True\"\u001b[0m\u001b[0;34m]\u001b[0m\u001b[0;34m)\u001b[0m\u001b[0;34m\u001b[0m\u001b[0m\n\u001b[1;32m      4\u001b[0m \u001b[0mplt\u001b[0m\u001b[0;34m.\u001b[0m\u001b[0mylabel\u001b[0m\u001b[0;34m(\u001b[0m\u001b[0;34m\"Orbits Unstable\"\u001b[0m\u001b[0;34m)\u001b[0m\u001b[0;34m\u001b[0m\u001b[0m\n\u001b[1;32m      5\u001b[0m \u001b[0mplt\u001b[0m\u001b[0;34m.\u001b[0m\u001b[0mshow\u001b[0m\u001b[0;34m(\u001b[0m\u001b[0;34m)\u001b[0m\u001b[0;34m\u001b[0m\u001b[0m\n",
      "\u001b[0;31mNameError\u001b[0m: name 'inclinations' is not defined"
     ]
    }
   ],
   "source": [
    "plt.plot(inclinations * 180 / np.pi, stability_checks)\n",
    "plt.xlabel(r\"$i$ (deg)\")\n",
    "plt.yticks([0, 1], [\"False\", \"True\"])\n",
    "plt.ylabel(\"Orbits Unstable\")\n",
    "plt.show()"
   ]
  },
  {
   "cell_type": "code",
   "execution_count": 12,
   "metadata": {},
   "outputs": [
    {
     "ename": "NameError",
     "evalue": "name 'sa' is not defined",
     "output_type": "error",
     "traceback": [
      "\u001b[0;31m---------------------------------------------------------------------------\u001b[0m",
      "\u001b[0;31mNameError\u001b[0m                                 Traceback (most recent call last)",
      "\u001b[0;32m<ipython-input-12-a30b1bba2321>\u001b[0m in \u001b[0;36m<module>\u001b[0;34m()\u001b[0m\n\u001b[0;32m----> 1\u001b[0;31m \u001b[0;32mfor\u001b[0m \u001b[0msim\u001b[0m \u001b[0;32min\u001b[0m \u001b[0msa\u001b[0m\u001b[0;34m:\u001b[0m\u001b[0;34m\u001b[0m\u001b[0m\n\u001b[0m\u001b[1;32m      2\u001b[0m     \u001b[0;32mprint\u001b[0m\u001b[0;34m(\u001b[0m\u001b[0morbits_unstable\u001b[0m\u001b[0;34m(\u001b[0m\u001b[0msim\u001b[0m\u001b[0;34m.\u001b[0m\u001b[0mparticles\u001b[0m\u001b[0;34m,\u001b[0m \u001b[0mplanets\u001b[0m\u001b[0;34m)\u001b[0m\u001b[0;34m)\u001b[0m\u001b[0;34m\u001b[0m\u001b[0m\n",
      "\u001b[0;31mNameError\u001b[0m: name 'sa' is not defined"
     ]
    }
   ],
   "source": [
    "for sim in sa:\n",
    "    print(orbits_unstable(sim.particles, planets))"
   ]
  },
  {
   "cell_type": "code",
   "execution_count": 13,
   "metadata": {},
   "outputs": [
    {
     "ename": "NameError",
     "evalue": "name 'analyze_orbits' is not defined",
     "output_type": "error",
     "traceback": [
      "\u001b[0;31m---------------------------------------------------------------------------\u001b[0m",
      "\u001b[0;31mNameError\u001b[0m                                 Traceback (most recent call last)",
      "\u001b[0;32m<ipython-input-13-85824c94e09d>\u001b[0m in \u001b[0;36m<module>\u001b[0;34m()\u001b[0m\n\u001b[0;32m----> 1\u001b[0;31m \u001b[0mdistances\u001b[0m\u001b[0;34m,\u001b[0m \u001b[0mr_H_list\u001b[0m \u001b[0;34m=\u001b[0m \u001b[0manalyze_orbits\u001b[0m\u001b[0;34m(\u001b[0m\u001b[0msim\u001b[0m\u001b[0;34m.\u001b[0m\u001b[0mparticles\u001b[0m\u001b[0;34m,\u001b[0m \u001b[0mplanets\u001b[0m\u001b[0;34m)\u001b[0m\u001b[0;34m\u001b[0m\u001b[0m\n\u001b[0m\u001b[1;32m      2\u001b[0m \u001b[0;31m# for r_H in r_H_list:\u001b[0m\u001b[0;34m\u001b[0m\u001b[0;34m\u001b[0m\u001b[0m\n\u001b[1;32m      3\u001b[0m \u001b[0;31m#     print((distances - r_H))\u001b[0m\u001b[0;34m\u001b[0m\u001b[0;34m\u001b[0m\u001b[0m\n",
      "\u001b[0;31mNameError\u001b[0m: name 'analyze_orbits' is not defined"
     ]
    }
   ],
   "source": [
    "distances, r_H_list = analyze_orbits(sim.particles, planets)\n",
    "# for r_H in r_H_list:\n",
    "#     print((distances - r_H))"
   ]
  },
  {
   "cell_type": "code",
   "execution_count": 14,
   "metadata": {},
   "outputs": [
    {
     "ename": "NameError",
     "evalue": "name 'distances' is not defined",
     "output_type": "error",
     "traceback": [
      "\u001b[0;31m---------------------------------------------------------------------------\u001b[0m",
      "\u001b[0;31mNameError\u001b[0m                                 Traceback (most recent call last)",
      "\u001b[0;32m<ipython-input-14-8aafff30f1e1>\u001b[0m in \u001b[0;36m<module>\u001b[0;34m()\u001b[0m\n\u001b[0;32m----> 1\u001b[0;31m \u001b[0mdistances\u001b[0m\u001b[0;34m,\u001b[0m \u001b[0mdistances\u001b[0m\u001b[0;34m[\u001b[0m\u001b[0mnp\u001b[0m\u001b[0;34m.\u001b[0m\u001b[0mtriu_indices\u001b[0m\u001b[0;34m(\u001b[0m\u001b[0;36m5\u001b[0m\u001b[0;34m,\u001b[0m \u001b[0;36m1\u001b[0m\u001b[0;34m)\u001b[0m\u001b[0;34m]\u001b[0m\u001b[0;34m\u001b[0m\u001b[0m\n\u001b[0m",
      "\u001b[0;31mNameError\u001b[0m: name 'distances' is not defined"
     ]
    }
   ],
   "source": [
    "distances, distances[np.triu_indices(5, 1)]"
   ]
  },
  {
   "cell_type": "code",
   "execution_count": 15,
   "metadata": {},
   "outputs": [
    {
     "ename": "NameError",
     "evalue": "global name 'modify_masses' is not defined",
     "output_type": "error",
     "traceback": [
      "\u001b[0;31m---------------------------------------------------------------------------\u001b[0m",
      "\u001b[0;31mNameError\u001b[0m                                 Traceback (most recent call last)",
      "\u001b[0;32m<ipython-input-15-20145e1956d1>\u001b[0m in \u001b[0;36m<module>\u001b[0;34m()\u001b[0m\n\u001b[0;32m----> 1\u001b[0;31m \u001b[0msim\u001b[0m \u001b[0;34m=\u001b[0m \u001b[0mrun_simluation_at_inclination\u001b[0m\u001b[0;34m(\u001b[0m\u001b[0mplanets\u001b[0m\u001b[0;34m,\u001b[0m \u001b[0mnp\u001b[0m\u001b[0;34m.\u001b[0m\u001b[0mpi\u001b[0m \u001b[0;34m/\u001b[0m \u001b[0;36m8\u001b[0m\u001b[0;34m,\u001b[0m \u001b[0;36m1000\u001b[0m\u001b[0;34m,\u001b[0m \u001b[0mplot\u001b[0m\u001b[0;34m=\u001b[0m\u001b[0mTrue\u001b[0m\u001b[0;34m,\u001b[0m \u001b[0mnum_steps\u001b[0m\u001b[0;34m=\u001b[0m\u001b[0;36m20\u001b[0m\u001b[0;34m)\u001b[0m\u001b[0;34m\u001b[0m\u001b[0m\n\u001b[0m",
      "\u001b[0;32m<ipython-input-8-c9cd5b6be7f7>\u001b[0m in \u001b[0;36mrun_simluation_at_inclination\u001b[0;34m(planets, inclination, integration_time, **kwargs)\u001b[0m\n\u001b[1;32m      4\u001b[0m \u001b[0;34m\u001b[0m\u001b[0m\n\u001b[1;32m      5\u001b[0m     \u001b[0mref_m_sinis\u001b[0m \u001b[0;34m=\u001b[0m \u001b[0;34m[\u001b[0m\u001b[0mplanet\u001b[0m\u001b[0;34m.\u001b[0m\u001b[0mm\u001b[0m \u001b[0;34m*\u001b[0m \u001b[0mnp\u001b[0m\u001b[0;34m.\u001b[0m\u001b[0msin\u001b[0m\u001b[0;34m(\u001b[0m\u001b[0mref_inclination\u001b[0m\u001b[0;34m)\u001b[0m \u001b[0;32mfor\u001b[0m \u001b[0mplanet\u001b[0m \u001b[0;32min\u001b[0m \u001b[0mplanets\u001b[0m\u001b[0;34m]\u001b[0m\u001b[0;34m\u001b[0m\u001b[0m\n\u001b[0;32m----> 6\u001b[0;31m     \u001b[0msim_planets\u001b[0m \u001b[0;34m=\u001b[0m \u001b[0mmodify_masses\u001b[0m\u001b[0;34m(\u001b[0m\u001b[0mplanets\u001b[0m\u001b[0;34m,\u001b[0m \u001b[0minclination\u001b[0m\u001b[0;34m,\u001b[0m \u001b[0mref_m_sinis\u001b[0m\u001b[0;34m,\u001b[0m \u001b[0;34m**\u001b[0m\u001b[0mkwargs\u001b[0m\u001b[0;34m)\u001b[0m\u001b[0;34m\u001b[0m\u001b[0m\n\u001b[0m\u001b[1;32m      7\u001b[0m \u001b[0;34m\u001b[0m\u001b[0m\n\u001b[1;32m      8\u001b[0m     \u001b[0;32mreturn\u001b[0m \u001b[0mrun_simulation\u001b[0m\u001b[0;34m(\u001b[0m\u001b[0msim_planets\u001b[0m\u001b[0;34m,\u001b[0m \u001b[0mintegration_time\u001b[0m\u001b[0;34m,\u001b[0m \u001b[0;34m**\u001b[0m\u001b[0mkwargs\u001b[0m\u001b[0;34m)\u001b[0m\u001b[0;34m\u001b[0m\u001b[0m\n",
      "\u001b[0;31mNameError\u001b[0m: global name 'modify_masses' is not defined"
     ]
    }
   ],
   "source": [
    "sim = run_simluation_at_inclination(planets, np.pi / 8, 1000, plot=True, num_steps=20) "
   ]
  },
  {
   "cell_type": "code",
   "execution_count": 16,
   "metadata": {},
   "outputs": [
    {
     "data": {
      "text/plain": [
       "<rebound.Particle object, m=6.83 x=-0.01744531932 y=-0.0125890944347 z=0.0 vx=0.0262327021625 vy=-0.0549929298282 vz=0.0>"
      ]
     },
     "execution_count": 16,
     "metadata": {},
     "output_type": "execute_result"
    }
   ],
   "source": [
    "sim.particles[1]"
   ]
  },
  {
   "cell_type": "code",
   "execution_count": 17,
   "metadata": {},
   "outputs": [
    {
     "ename": "NameError",
     "evalue": "name 'ref_inclination' is not defined",
     "output_type": "error",
     "traceback": [
      "\u001b[0;31m---------------------------------------------------------------------------\u001b[0m",
      "\u001b[0;31mNameError\u001b[0m                                 Traceback (most recent call last)",
      "\u001b[0;32m<ipython-input-17-143cdae2a92d>\u001b[0m in \u001b[0;36m<module>\u001b[0;34m()\u001b[0m\n\u001b[0;32m----> 1\u001b[0;31m \u001b[0mref_m_sinis\u001b[0m \u001b[0;34m=\u001b[0m \u001b[0;34m[\u001b[0m\u001b[0mplanet\u001b[0m\u001b[0;34m.\u001b[0m\u001b[0mm\u001b[0m \u001b[0;34m*\u001b[0m \u001b[0mnp\u001b[0m\u001b[0;34m.\u001b[0m\u001b[0msin\u001b[0m\u001b[0;34m(\u001b[0m\u001b[0mref_inclination\u001b[0m\u001b[0;34m)\u001b[0m \u001b[0;32mfor\u001b[0m \u001b[0mplanet\u001b[0m \u001b[0;32min\u001b[0m \u001b[0mplanets\u001b[0m\u001b[0;34m]\u001b[0m\u001b[0;34m\u001b[0m\u001b[0m\n\u001b[0m\u001b[1;32m      2\u001b[0m \u001b[0msim_planets\u001b[0m \u001b[0;34m=\u001b[0m \u001b[0mmodify_masses\u001b[0m\u001b[0;34m(\u001b[0m\u001b[0mplanets\u001b[0m\u001b[0;34m,\u001b[0m \u001b[0mnp\u001b[0m\u001b[0;34m.\u001b[0m\u001b[0mpi\u001b[0m\u001b[0;34m/\u001b[0m\u001b[0;36m16\u001b[0m\u001b[0;34m,\u001b[0m \u001b[0mref_m_sinis\u001b[0m\u001b[0;34m)\u001b[0m\u001b[0;34m\u001b[0m\u001b[0m\n\u001b[1;32m      3\u001b[0m \u001b[0;32mprint\u001b[0m\u001b[0;34m(\u001b[0m\u001b[0;34m[\u001b[0m\u001b[0mplanet\u001b[0m\u001b[0;34m.\u001b[0m\u001b[0mm\u001b[0m \u001b[0;32mfor\u001b[0m \u001b[0mplanet\u001b[0m \u001b[0;32min\u001b[0m \u001b[0msim_planets\u001b[0m\u001b[0;34m]\u001b[0m\u001b[0;34m)\u001b[0m\u001b[0;34m\u001b[0m\u001b[0m\n\u001b[1;32m      4\u001b[0m \u001b[0msim\u001b[0m \u001b[0;34m=\u001b[0m \u001b[0mrun_simulation\u001b[0m\u001b[0;34m(\u001b[0m\u001b[0msim_planets\u001b[0m\u001b[0;34m,\u001b[0m \u001b[0;36m1\u001b[0m\u001b[0;34m,\u001b[0m \u001b[0;36m10\u001b[0m\u001b[0;34m,\u001b[0m \u001b[0mplot\u001b[0m\u001b[0;34m=\u001b[0m\u001b[0mTrue\u001b[0m\u001b[0;34m)\u001b[0m\u001b[0;34m\u001b[0m\u001b[0m\n",
      "\u001b[0;31mNameError\u001b[0m: name 'ref_inclination' is not defined"
     ]
    }
   ],
   "source": [
    "ref_m_sinis = [planet.m * np.sin(ref_inclination) for planet in planets]\n",
    "sim_planets = modify_masses(planets, np.pi/16, ref_m_sinis)\n",
    "print([planet.m for planet in sim_planets])\n",
    "sim = run_simulation(sim_planets, 1, 10, plot=True)"
   ]
  },
  {
   "cell_type": "code",
   "execution_count": 18,
   "metadata": {},
   "outputs": [
    {
     "ename": "TypeError",
     "evalue": "run_simluation_at_inclination() takes exactly 3 arguments (5 given)",
     "output_type": "error",
     "traceback": [
      "\u001b[0;31m---------------------------------------------------------------------------\u001b[0m",
      "\u001b[0;31mTypeError\u001b[0m                                 Traceback (most recent call last)",
      "\u001b[0;32m<ipython-input-18-acbb887a3cd7>\u001b[0m in \u001b[0;36m<module>\u001b[0;34m()\u001b[0m\n\u001b[0;32m----> 1\u001b[0;31m \u001b[0mrun_simluation_at_inclination\u001b[0m\u001b[0;34m(\u001b[0m\u001b[0mplanets\u001b[0m\u001b[0;34m,\u001b[0m \u001b[0mnp\u001b[0m\u001b[0;34m.\u001b[0m\u001b[0mpi\u001b[0m \u001b[0;34m/\u001b[0m \u001b[0;36m2\u001b[0m\u001b[0;34m,\u001b[0m \u001b[0;36m1\u001b[0m\u001b[0;34m,\u001b[0m \u001b[0;36m10\u001b[0m\u001b[0;34m,\u001b[0m \u001b[0mplot\u001b[0m\u001b[0;34m=\u001b[0m\u001b[0mTrue\u001b[0m\u001b[0;34m)\u001b[0m\u001b[0;34m\u001b[0m\u001b[0m\n\u001b[0m",
      "\u001b[0;31mTypeError\u001b[0m: run_simluation_at_inclination() takes exactly 3 arguments (5 given)"
     ]
    }
   ],
   "source": [
    "run_simluation_at_inclination(planets, np.pi / 2, 1, 10, plot=True)"
   ]
  },
  {
   "cell_type": "code",
   "execution_count": 19,
   "metadata": {},
   "outputs": [
    {
     "data": {
      "image/png": "[encoded data removed]",
      "text/plain": [
       "<Figure size 360x360 with 1 Axes>"
      ]
     },
     "metadata": {},
     "output_type": "display_data"
    }
   ],
   "source": [
    "sim = run_simulation(planets, 1.937780, 3)\n",
    "planet_positions = [[particle.x, particle.y, particle.z] for particle in sim.particles[1:]]"
   ]
  },
  {
   "cell_type": "code",
   "execution_count": 20,
   "metadata": {},
   "outputs": [
    {
     "data": {
      "text/plain": [
       "[[-0.0020091255536569016, -0.023904392589769875, 0.0],\n",
       " [-0.04610077148649902, -0.08715910005481509, 0.0],\n",
       " [0.13506114192756724, -0.15093980211572638, 0.0],\n",
       " [-0.25841836314766264, 0.2271953747869938, 0.0]]"
      ]
     },
     "execution_count": 20,
     "metadata": {},
     "output_type": "execute_result"
    }
   ],
   "source": [
    "planet_positions"
   ]
  },
  {
   "cell_type": "markdown",
   "metadata": {},
   "source": [
    "### Problem 3\n",
    "Compute the radial velocity of the star, and then fit this RV with four Keplerian orbits. How big are the residuals?  How does this compare to typical RV errors?"
   ]
  },
  {
   "cell_type": "markdown",
   "metadata": {},
   "source": [
    "### Problem 4\n",
    "Look at REBOUND TTV example.  Make a plot of the TTVs of GJ 876 c over 4 years (assuming edge-on, so that planet would transit).  Measure amplitude and period of the sinusoidal variation component.  How does it change if you vary the mass of GJ 876 b downward and upward by a factor of 2?"
   ]
  },
  {
   "cell_type": "code",
   "execution_count": 59,
   "metadata": {},
   "outputs": [],
   "source": [
    "sim = rebound.Simulation()\n",
    "planetb_mass_scalar = 1\n",
    "# Add center star\n",
    "sim.add(m=0.32 * M_SUN_TO_M_EARTH)\n",
    "for planet in planets:\n",
    "    sim.add(m=planet.m, a=planet.a, e=planet.e, M=planet.mean_anomoly, omega=planet.omega)\n",
    "planets[0].m *= planetb_mass_scalar # for mass variation in TTV problem 4\n",
    "sim.move_to_com()"
   ]
  },
  {
   "cell_type": "code",
   "execution_count": null,
   "metadata": {},
   "outputs": [],
   "source": [
    "N = int(round(4 * 365.25 / planets[0].P, 0))  # number of planet b transits in four years\n",
    "N = 174 # like in example\n",
    "transittimes = np.zeros(N)\n",
    "p = sim.particles\n",
    "i = 0\n",
    "while i<N:\n",
    "    y_old = p[1].y - p[0].y  # (Thanks to David Martin for pointing out a bug in this line!)\n",
    "    t_old = sim.t\n",
    "    sim.integrate(sim.t+0.5) # check for transits every 0.5 time units. Note that 0.5 is shorter than one orbit\n",
    "    t_new = sim.t\n",
    "    if y_old*(p[1].y-p[0].y)<0. and p[1].x-p[0].x>0.:   # sign changed (y_old*y<0), planet in front of star (x>0)\n",
    "        while t_new-t_old>1e-7:   # bisect until prec of 1e-5 reached\n",
    "            if y_old*(p[1].y-p[0].y)<0.:\n",
    "                t_new = sim.t\n",
    "            else:\n",
    "                t_old = sim.t\n",
    "            sim.integrate( (t_new+t_old)/2.)\n",
    "        transittimes[i] = sim.t\n",
    "        i += 1\n",
    "        sim.integrate(sim.t+0.05)       # integrate 0.05 to be past the transit"
   ]
  },
  {
   "cell_type": "code",
   "execution_count": null,
   "metadata": {},
   "outputs": [],
   "source": [
    "# do a linear least squares fit to remove the linear trend in transit times\n",
    "A = np.vstack([np.ones(N), range(N)]).T\n",
    "c, m = np.linalg.lstsq(A, transittimes)[0]"
   ]
  },
  {
   "cell_type": "code",
   "execution_count": null,
   "metadata": {},
   "outputs": [],
   "source": [
    "fig = plt.figure(figsize=(10,5))\n",
    "ax = plt.subplot(111)\n",
    "ax.set_xlim([0,N])\n",
    "ax.set_xlabel(\"Transit number\")\n",
    "ax.set_ylabel(\"TTV [hours]\")\n",
    "plt.scatter(range(N), (transittimes - (m*np.array(range(N)) + c))*(24.*365./2./np.pi))"
   ]
  },
  {
   "cell_type": "code",
   "execution_count": null,
   "metadata": {},
   "outputs": [],
   "source": []
  }
 ],
 "metadata": {
  "kernelspec": {
   "display_name": "Python 2",
   "language": "python",
   "name": "python2"
  },
  "language_info": {
   "codemirror_mode": {
    "name": "ipython",
    "version": 2
   },
   "file_extension": ".py",
   "mimetype": "text/x-python",
   "name": "python",
   "nbconvert_exporter": "python",
   "pygments_lexer": "ipython2",
   "version": "2.7.15"
  }
 },
 "nbformat": 4,
 "nbformat_minor": 2
}
