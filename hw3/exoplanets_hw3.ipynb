{
 "cells": [
  {
   "cell_type": "markdown",
   "metadata": {},
   "source": [
    "# Exoplanets HW3 \n",
    "## Steven Stetzler and Miles Currie\n",
    "\n",
    "### Problem 1\n",
    "\n",
    "Install Rebound"
   ]
  },
  {
   "cell_type": "code",
   "execution_count": 17,
   "metadata": {},
   "outputs": [],
   "source": [
    "import numpy as np\n",
    "import matplotlib.pyplot as plt\n",
    "import rebound\n",
    "from __future__ import division, print_function\n",
    "from IPython.display import display, clear_output\n",
    "import matplotlib.pyplot as plt"
   ]
  },
  {
   "cell_type": "markdown",
   "metadata": {},
   "source": [
    "### Problem 2\n",
    "Look up the parameters of the planet system GJ 876.  Assume the planets’ orbits lie in a plane, and vary the inclination of the system.  At what inclination does the system become unstable after 1000 orbits of the inner planet? What upper limit does this place on the planets’ masses?  At what inclination would the planets be seen to transit?  What lower limit does this place on the planets’ masses?\n",
    "\n",
    "\n",
    "### From [Rivera et al. (2010)](https://iopscience.iop.org/article/10.1088/0004-637X/719/1/890/pdf):\n",
    "<img src=\"GJ876_planet_params.png\">\n",
    "<img src=\"GJ876_stellar_params.png\">"
   ]
  },
  {
   "cell_type": "code",
   "execution_count": 29,
   "metadata": {},
   "outputs": [],
   "source": [
    "class Planet():\n",
    "    def __init__(self, P, m, a, K, e, omega, mean_anomoly):\n",
    "        self.P = P \n",
    "        self.m = m\n",
    "        self.a = a\n",
    "        self.K = K\n",
    "        self.e = e\n",
    "        self.omega = omega\n",
    "        self.mean_anomoly = mean_anomoly"
   ]
  },
  {
   "cell_type": "code",
   "execution_count": null,
   "metadata": {},
   "outputs": [],
   "source": [
    "def K_to_Msini(K):\n",
    "    "
   ]
  },
  {
   "cell_type": "code",
   "execution_count": 38,
   "metadata": {},
   "outputs": [
    {
     "name": "stdout",
     "output_type": "stream",
     "text": [
      "G = 8.88769244513e-10.\n"
     ]
    }
   ],
   "source": [
    "sim = rebound.Simulation()\n",
    "sim.units = ('days', 'AU', 'Mearth')\n",
    "print(\"G = {0}.\".format(sim.G))"
   ]
  },
  {
   "cell_type": "code",
   "execution_count": 40,
   "metadata": {},
   "outputs": [
    {
     "data": {
      "image/png": "[encoded data removed]",
      "text/plain": [
       "<Figure size 360x360 with 1 Axes>"
      ]
     },
     "metadata": {},
     "output_type": "display_data"
    }
   ],
   "source": [
    "sim = rebound.Simulation()\n",
    "sim.units = ('days', 'AU', 'Mearth')\n",
    "\n",
    "M_JUPITER_TO_M_EARTH = 317.8\n",
    "M_SUN_TO_M_EARTH = 332946\n",
    "\n",
    "planets = [\n",
    "    Planet(1.937780, 6.83, 0.02080665, 6.56, 0.207, 234, 355),\n",
    "    Planet(30.0881, M_JUPITER_TO_M_EARTH * 0.7142, 0.129590, 88.34, 0.25591, 48.76, 294.59),\n",
    "    Planet(61.1166, M_JUPITER_TO_M_EARTH * 2.2756, 0.208317, 214, 0.0324, 50.3, 325.7),\n",
    "    Planet(124.26, 14.6, 0.3343, 3.42, 0.055, 239, 335)\n",
    "]\n",
    "\n",
    "# Add center star\n",
    "sim.add(m=0.32 * M_SUN_TO_M_EARTH)\n",
    "# Add all planets\n",
    "for planet in planets:\n",
    "    sim.add(m=planet.m, a=planet.a, e=planet.e, P=planet.P, omega=planet.omega, M=planet.mean_anomoly)\n",
    "\n",
    "# convert to center of mass coordinates\n",
    "sim.move_to_com()\n",
    "sim.dt = sim.particles[1].P * 0.05  # timestep is 5% of orbital period\n",
    "sim.integrator = \"whfast\"\n",
    "sim.automateSimulationArchive(\"archive.bin\", interval=1e3, deletefile=True)\n",
    "\n",
    "sim.move_to_com()\n",
    "for i in range(10):\n",
    "    sim.integrate(sim.t + 0.5)\n",
    "    fig = rebound.OrbitPlot(sim, color=True, unitlabel=\"[AU]\", lim=1.2 * max([planet.a for planet in planets]))\n",
    "    display(fig)\n",
    "    plt.close(fig)\n",
    "    clear_output(wait=True)"
   ]
  },
  {
   "cell_type": "markdown",
   "metadata": {},
   "source": [
    "### Problem 3\n",
    "Compute the radial velocity of the star, and then fit this RV with four Keplerian orbits. How big are the residuals?  How does this compare to typical RV errors?"
   ]
  },
  {
   "cell_type": "markdown",
   "metadata": {},
   "source": [
    "### Problem 4\n",
    "Look at REBOUND TTV example.  Make a plot of the TTVs of GJ 876 c over 4 years (assuming edge-on, so that planet would transit).  Measure amplitude and period of the sinusoidal variation component.  How does it change if you vary the mass of GJ 876 b downward and upward by a factor of 2?"
   ]
  }
 ],
 "metadata": {
  "kernelspec": {
   "display_name": "ExoplanetsPy",
   "language": "python",
   "name": "exoplanets-py"
  },
  "language_info": {
   "codemirror_mode": {
    "name": "ipython",
    "version": 2
   },
   "file_extension": ".py",
   "mimetype": "text/x-python",
   "name": "python",
   "nbconvert_exporter": "python",
   "pygments_lexer": "ipython2",
   "version": "2.7.13"
  }
 },
 "nbformat": 4,
 "nbformat_minor": 2
}
